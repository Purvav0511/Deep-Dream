{
  "nbformat": 4,
  "nbformat_minor": 0,
  "metadata": {
    "colab": {
      "provenance": [],
      "authorship_tag": "ABX9TyO0pNw2kpcCRb/K2sC1roup",
      "include_colab_link": true
    },
    "kernelspec": {
      "name": "python3",
      "display_name": "Python 3"
    },
    "language_info": {
      "name": "python"
    }
  },
  "cells": [
    {
      "cell_type": "markdown",
      "metadata": {
        "id": "view-in-github",
        "colab_type": "text"
      },
      "source": [
        "<a href=\"https://colab.research.google.com/github/Purvav0511/Deep-Dream/blob/main/Deep_Dream.ipynb\" target=\"_parent\"><img src=\"https://colab.research.google.com/assets/colab-badge.svg\" alt=\"Open In Colab\"/></a>"
      ]
    },
    {
      "cell_type": "code",
      "source": [
        "#Import necessary libraries"
      ],
      "metadata": {
        "id": "4bGGqRBdxAFY"
      },
      "execution_count": null,
      "outputs": []
    },
    {
      "cell_type": "code",
      "execution_count": null,
      "metadata": {
        "id": "nIhz-6x5wq7A"
      },
      "outputs": [],
      "source": [
        "import numpy as np\n",
        "from functools import partial\n",
        "import PIL.Image\n",
        "import tensorflow as tf\n",
        "import urllib.request\n",
        "import os\n",
        "import zipfile"
      ]
    },
    {
      "cell_type": "code",
      "source": [
        "#Download Google's pretrained neural network inception"
      ],
      "metadata": {
        "id": "P0tMETm4xC0H"
      },
      "execution_count": null,
      "outputs": []
    },
    {
      "cell_type": "code",
      "source": [
        "url= 'https://storage.googleapis.com/download.tensorflow.org/models/inception5h.zip'\n",
        "data_dir='../data'\n",
        "model_name=os.path.split(url)[-1]\n",
        "local_zip_file=os.path.join(data_dir, model_name)\n",
        "\n",
        "if not os.path.exists(local_zip_file):\n",
        "  #Download the file\n",
        "  model_url= urllib.request.urlopen(url)\n",
        "  with open(local_zip_file, 'wb') as output:\n",
        "    output.write(model_url.read())\n",
        "\n",
        "  #extract the file\n",
        "  with zipfile.ZipFile(local_zip_file, 'r') as zip_ref:\n",
        "    zip_ref.extractall(data_dir)"
      ],
      "metadata": {
        "id": "WKjAjvaPxbeX"
      },
      "execution_count": null,
      "outputs": []
    },
    {
      "cell_type": "code",
      "source": [
        "#Create a Tensorflow Session"
      ],
      "metadata": {
        "id": "ZXObsik2y-Jk"
      },
      "execution_count": null,
      "outputs": []
    },
    {
      "cell_type": "code",
      "source": [
        "model_fn = 'tensorflow_inception_graph.pb'\n",
        "graph= tf.Graph()\n",
        "sess= tf.InteractiveSession(graph= graph)\n",
        "with tf.gfile.FastGFile(os.path.join(data_dir, model_fn), 'rb') as f:\n",
        "  graph_def= tf.GraphDef()\n",
        "  graph_def.ParseFromString(f.read())\n",
        "t_input= tf.placeholder(np.float32, name='input')\n",
        "imagenet_mean=117.0\n",
        "t_preprocessed= tf.expand_dims(t_input=imagenet_mean, 0)\n",
        "tf.import_graph_def(graph_def, {'input': t_preprocessed})\n",
        "\n",
        "layers= [op.name for op in graph.get_operations() if op.type=='Conv2D' and 'import/' in op.name]\n",
        "feature_nums = [int(graph.get_tensor_by_name(name+:'0').get_shape()[-1]) for name in layers]\n",
        "\n",
        "print('Number of Layers', len(layers))\n",
        "print('Total number of feature channels:', sum(feature_nums))"
      ],
      "metadata": {
        "id": "iiPnAgXVzAWM"
      },
      "execution_count": null,
      "outputs": []
    },
    {
      "cell_type": "code",
      "source": [
        "#Pick a layer to enhance our image"
      ],
      "metadata": {
        "id": "E3l2ULW42enM"
      },
      "execution_count": null,
      "outputs": []
    },
    {
      "cell_type": "code",
      "source": [
        "def render_deepdream(t_obj, img0=img_noise, iter_n= 10, step=1.5, octave_n=4, octave_scale=1.4):\n",
        "  t_score= tf.reduce_mean(t_obj)\n",
        "  t_grad= tf.gradients(t_score, t_input)[0]\n",
        "\n",
        "  #Split images into number of octaves\n",
        "  img=img0\n",
        "  octaves=[]\n",
        "  for _ in range(octave_n-1):\n",
        "    hw= img.shape[:2]\n",
        "    lo=resize(img, np.int32(np.float32(hw)/octave_scale))\n",
        "    hi=img-resize(low, hw)\n",
        "    img=lo\n",
        "    octaves.append(hi)\n",
        "\n",
        "  #Generate details octave by octave\n",
        "  for octave in range(octave_n):\n",
        "    if octave>0:\n",
        "      hi= octaves[-octaves]\n",
        "      img= resize(img, hi.shape[:2])+hi\n",
        "    for _ in range(iter_n):\n",
        "      g= calc_grad_tilted(img, t_grad)\n",
        "      img= img + g*(step / np.abs(g).mean()+1e-7)\n",
        "\n",
        "    #Render the deepdream image\n",
        "    showarray(img/255.0)"
      ],
      "metadata": {
        "id": "yVDhZO9Q3LqQ"
      },
      "execution_count": null,
      "outputs": []
    },
    {
      "cell_type": "code",
      "source": [
        "layer='mixed4d+3x3_bottleneck_pre_relu'\n",
        "channel=139\n",
        "\n",
        "img0= PIL.Image.open('pilatus800.jpg')\n",
        "img0= np.float32(img0)\n",
        "\n",
        "#Apply gradient ascent to that layer\n",
        "render_deepdream(T(layer)[:,:,:,139] img0)"
      ],
      "metadata": {
        "id": "3pDK1hgw2hgy"
      },
      "execution_count": null,
      "outputs": []
    },
    {
      "cell_type": "code",
      "source": [],
      "metadata": {
        "id": "LKU38dSA5SYV"
      },
      "execution_count": null,
      "outputs": []
    }
  ]
}